{
 "cells": [
  {
   "cell_type": "markdown",
   "id": "ad701a57-de16-4c56-8ba6-249219bbbb38",
   "metadata": {},
   "source": [
    "**Задание 1. Создание и изменение массивов** Создайте массив NumPy размером 3×3, содержащий числа от 1 до 9. Умножьте все элементы массива на 2. Замените все элементы больше 10 на 0. Выведите итоговый массив."
   ]
  },
  {
   "cell_type": "code",
   "execution_count": 1,
   "id": "cc497f12-d26d-46c7-82d6-1a71ef6fd4cf",
   "metadata": {},
   "outputs": [
    {
     "name": "stdout",
     "output_type": "stream",
     "text": [
      "[[ 2  4  6]\n",
      " [ 8 10  0]\n",
      " [ 0  0  0]]\n"
     ]
    }
   ],
   "source": [
    "import numpy as np\n",
    "\n",
    "array = np.arange(1, 10).reshape(3, 3)\n",
    "array = array * 2\n",
    "array[array > 10] = 0\n",
    "\n",
    "print(array)"
   ]
  },
  {
   "cell_type": "markdown",
   "id": "107e5bbf-1667-4c54-b75c-0a04d2d029f6",
   "metadata": {},
   "source": [
    "**Задание 2. Работа с булевыми масками** Создайте массив NumPy из 20 случайных целых чисел от 1 до 100. Найдите и выведите все элементы, которые делятся на 5 без остатка. Замените эти элементы на -1. Выведите обновленный массив."
   ]
  },
  {
   "cell_type": "code",
   "execution_count": 2,
   "id": "f13f0b75-9ff5-450e-aaf6-982ab76e395b",
   "metadata": {},
   "outputs": [
    {
     "name": "stdout",
     "output_type": "stream",
     "text": [
      "Элементы, делящиеся на 5: [ 45  60  85  55 100]\n",
      "Обновленный массив: [-1 11 23 11 88 68 73 94 -1 84 84 -1 54 26 28 43 13 -1 -1 17]\n"
     ]
    }
   ],
   "source": [
    "import numpy as np\n",
    "\n",
    "array = np.random.randint(1, 101, 20)\n",
    "delOnFive = array[array % 5 == 0]\n",
    "\n",
    "print(\"Элементы, делящиеся на 5:\", delOnFive)\n",
    "\n",
    "array[array % 5 == 0] = -1\n",
    "\n",
    "print(\"Обновленный массив:\", array)"
   ]
  },
  {
   "cell_type": "markdown",
   "id": "013205c0-46dd-42fb-827e-98b79d8c158d",
   "metadata": {},
   "source": [
    "**Задание 3. Объединение и разбиение массивов** Создайте два массива NumPy размером 1×5, заполненные случайными числами от 0 до 50. Объедините эти массивы в один двумерный массив (по строкам). Разделите полученный массив на два массива, каждый из которых содержит 5 элементов. Выведите все промежуточные и итоговые результаты."
   ]
  },
  {
   "cell_type": "code",
   "execution_count": 3,
   "id": "c2e91df2-02bb-4857-ab01-2cdf98a69381",
   "metadata": {},
   "outputs": [
    {
     "name": "stdout",
     "output_type": "stream",
     "text": [
      "Массив 1: [[47 26 17  3 15]]\n",
      "Массив 2: [[19 21 26 16  1]]\n",
      "Объединенный массив: [[47 26 17  3 15]\n",
      " [19 21 26 16  1]]\n",
      "Разделенный массив 1: [[47 26 17  3 15]]\n",
      "Разделенный массив 2: [[19 21 26 16  1]]\n"
     ]
    }
   ],
   "source": [
    "import numpy as np\n",
    "\n",
    "array1 = np.random.randint(0, 51, (1, 5))\n",
    "array2 = np.random.randint(0, 51, (1, 5))\n",
    "\n",
    "print(\"Массив 1:\", array1)\n",
    "print(\"Массив 2:\", array2)\n",
    "\n",
    "# Объединенние массивов по строкам\n",
    "combinedArray = np.vstack((array1, array2))\n",
    "\n",
    "print(\"Объединенный массив:\", combinedArray)\n",
    "\n",
    "# Разделенние массивов на два массива\n",
    "splitArrays = np.split(combinedArray, 2)\n",
    "\n",
    "print(\"Разделенный массив 1:\", splitArrays[0])\n",
    "print(\"Разделенный массив 2:\", splitArrays[1])"
   ]
  },
  {
   "cell_type": "markdown",
   "id": "9686a72d-777b-40b0-a01f-9b1f45c228ba",
   "metadata": {},
   "source": [
    "**Задание 4. Генерация и работа с линейными последовательностями** Создайте массив из 50 чисел, равномерно распределенных от -10 до 10. Вычислите сумму всех элементов массива. Вычислите сумму положительных элементов. Вычислите сумму отрицательных элементов. Выведите результаты."
   ]
  },
  {
   "cell_type": "code",
   "execution_count": 4,
   "id": "f18d8aa0-aecb-4875-8ff0-297291d1ba54",
   "metadata": {},
   "outputs": [
    {
     "name": "stdout",
     "output_type": "stream",
     "text": [
      "Сумма всех элементов: 7.105427357601002e-15\n",
      "Сумма положительных элементов: 127.55102040816328\n",
      "Сумма отрицательных элементов: -127.55102040816327\n"
     ]
    }
   ],
   "source": [
    "import numpy as np\n",
    "\n",
    "array = np.linspace(-10, 10, 50)\n",
    "\n",
    "Sum = np.sum(array)\n",
    "positiveSum = np.sum(array[array > 0])\n",
    "negativeSum = np.sum(array[array < 0])\n",
    "\n",
    "print(\"Сумма всех элементов:\", Sum)\n",
    "print(\"Сумма положительных элементов:\", positiveSum)\n",
    "print(\"Сумма отрицательных элементов:\", negativeSum)"
   ]
  },
  {
   "cell_type": "markdown",
   "id": "66028d37-33b0-476f-a51e-49cb4f023d08",
   "metadata": {},
   "source": [
    "**Задание 5. Работа с диагональными и единичными матрицами** Создайте единичную матрицу размером 4×4. Создайте диагональную матрицу размером 4×4 с диагональными элементами [5, 10, 15, 20] (без использования циклов). Найдите сумму всех элементов каждой из этих матриц. Сравните результаты. "
   ]
  },
  {
   "cell_type": "code",
   "execution_count": 6,
   "id": "77063fde-a239-442b-a165-b62456db1543",
   "metadata": {},
   "outputs": [
    {
     "name": "stdout",
     "output_type": "stream",
     "text": [
      "Единичная матрица:\n",
      " [[1. 0. 0. 0.]\n",
      " [0. 1. 0. 0.]\n",
      " [0. 0. 1. 0.]\n",
      " [0. 0. 0. 1.]]\n",
      "Сумма элементов единичной матрицы: 4.0\n",
      "Диагональная матрица:\n",
      " [[ 5  0  0  0]\n",
      " [ 0 10  0  0]\n",
      " [ 0  0 15  0]\n",
      " [ 0  0  0 20]]\n",
      "Сумма элементов диагональной матрицы: 50\n",
      "Сумма элементов диагональной матрицы больше.\n"
     ]
    }
   ],
   "source": [
    "import numpy as np\n",
    "\n",
    "# Единичная матрица размером 4×4\n",
    "singleMatrix = np.eye(4)\n",
    "\n",
    "# Диагональная матрица с диагональными элементами [5, 10, 15, 20]\n",
    "diagonalMatrix = np.diag([5, 10, 15, 20])\n",
    "\n",
    "sumOfSingle = np.sum(singleMatrix)\n",
    "sumOfDiagonal = np.sum(diagonalMatrix)\n",
    "\n",
    "print(\"Единичная матрица:\\n\", singleMatrix)\n",
    "print(\"Сумма элементов единичной матрицы:\", sumOfSingle)\n",
    "\n",
    "print(\"Диагональная матрица:\\n\", diagonalMatrix)\n",
    "print(\"Сумма элементов диагональной матрицы:\", sumOfDiagonal)\n",
    "\n",
    "if sumOfSingle > sumOfDiagonal:\n",
    "    print(\"Сумма элементов единичной матрицы больше.\")\n",
    "elif sumOfSingle < sumOfDiagonal:\n",
    "    print(\"Сумма элементов диагональной матрицы больше.\")\n",
    "else:\n",
    "    print(\"Суммы элементов матриц равны.\")"
   ]
  },
  {
   "cell_type": "markdown",
   "id": "dfb5e07e-7c69-4128-a75c-b8b90348617e",
   "metadata": {},
   "source": [
    "**Задание 6. Создание и базовые операции с матрицами** Создайте две квадратные матрицы NumPy размером 3×3, заполненные случайными целыми числами от 1 до 20. Вычислите и выведите: Их сумму, разность, поэлементное произведение"
   ]
  },
  {
   "cell_type": "code",
   "execution_count": 7,
   "id": "894bdf65-0a30-4f6c-9d10-0d5319153fa0",
   "metadata": {},
   "outputs": [
    {
     "name": "stdout",
     "output_type": "stream",
     "text": [
      "Первая матрица:\n",
      " [[ 1  3 14]\n",
      " [ 1 12  4]\n",
      " [16  5 11]]\n",
      "Вторая матрица:\n",
      " [[14 13 19]\n",
      " [10  8 17]\n",
      " [19  1  8]]\n",
      "Сумма матриц:\n",
      " [[15 16 33]\n",
      " [11 20 21]\n",
      " [35  6 19]]\n",
      "Разность матриц:\n",
      " [[-13 -10  -5]\n",
      " [ -9   4 -13]\n",
      " [ -3   4   3]]\n",
      "Поэлементное произведение матриц:\n",
      " [[ 14  39 266]\n",
      " [ 10  96  68]\n",
      " [304   5  88]]\n"
     ]
    }
   ],
   "source": [
    "import numpy as np\n",
    "\n",
    "matrix1 = np.random.randint(1, 21, (3, 3))\n",
    "matrix2 = np.random.randint(1, 21, (3, 3))\n",
    "\n",
    "print(\"Первая матрица:\\n\", matrix1)\n",
    "print(\"Вторая матрица:\\n\", matrix2)\n",
    "\n",
    "sumMatrix = matrix1 + matrix2\n",
    "print(\"Сумма матриц:\\n\", sumMatrix)\n",
    "\n",
    "differenceOfMatrix = matrix1 - matrix2\n",
    "print(\"Разность матриц:\\n\", differenceOfMatrix)\n",
    "\n",
    "# Поэлементное произведение матриц\n",
    "elementwiseProductOfMatrix = matrix1 * matrix2\n",
    "print(\"Поэлементное произведение матриц:\\n\", elementwiseProductOfMatrix)"
   ]
  },
  {
   "cell_type": "markdown",
   "id": "29b8c809-fb93-42f9-bca8-e0e94fed9846",
   "metadata": {},
   "source": [
    "**Задание 7. Умножение матриц** Создайте две матрицы NumPy: Первую размером 2×3, заполненную случайными числами от 1 до 10. Вторую размером 3×2, заполненную случайными числами от 1 до 10. Выполните матричное умножение с использованием оператора @ или функции np.dot. Выведите результат."
   ]
  },
  {
   "cell_type": "code",
   "execution_count": 8,
   "id": "764c5125-970f-44ae-b9b4-00f3b5480d2b",
   "metadata": {},
   "outputs": [
    {
     "name": "stdout",
     "output_type": "stream",
     "text": [
      "Матрица 1 (2×3):\n",
      " [[ 4  4 10]\n",
      " [ 1  4  3]]\n",
      "Матрица 2 (3×2):\n",
      " [[8 3]\n",
      " [6 1]\n",
      " [1 3]]\n",
      "Результат матричного умножения:\n",
      " [[66 46]\n",
      " [35 16]]\n"
     ]
    }
   ],
   "source": [
    "import numpy as np\n",
    "\n",
    "matrix1 = np.random.randint(1, 11, (2, 3))\n",
    "matrix2 = np.random.randint(1, 11, (3, 2))\n",
    "\n",
    "print(\"Матрица 1 (2×3):\\n\", matrix1)\n",
    "print(\"Матрица 2 (3×2):\\n\", matrix2)\n",
    "\n",
    "resultMatrix = np.dot(matrix1, matrix2)\n",
    "\n",
    "# Выводим результат\n",
    "print(\"Результат матричного умножения:\\n\", resultMatrix)"
   ]
  },
  {
   "cell_type": "markdown",
   "id": "27840612-f279-4195-964a-9432cce7eeb7",
   "metadata": {},
   "source": [
    "**Задание 8. Определитель и обратная матрица** Создайте случайную квадратную матрицу 3×3. Найдите и выведите: Определитель этой матрицы. Обратную матрицу (если она существует, иначе выведите сообщение, что матрица вырождена). Используйте функции np.linalg.det и np.linalg.inv."
   ]
  },
  {
   "cell_type": "code",
   "execution_count": 9,
   "id": "450616ae-ef6f-4b1e-83b3-5f89fd885925",
   "metadata": {},
   "outputs": [
    {
     "name": "stdout",
     "output_type": "stream",
     "text": [
      "Исходная матрица:\n",
      " [[4 9 2]\n",
      " [8 8 7]\n",
      " [3 6 4]]\n",
      "Определитель матрицы: -90.99999999999997\n",
      "Обратная матрица:\n",
      " [[ 0.10989011  0.26373626 -0.51648352]\n",
      " [ 0.12087912 -0.10989011  0.13186813]\n",
      " [-0.26373626 -0.03296703  0.43956044]]\n"
     ]
    }
   ],
   "source": [
    "import numpy as np\n",
    "\n",
    "matrix = np.random.randint(1, 10, (3, 3))\n",
    "\n",
    "print(\"Исходная матрица:\\n\", matrix)\n",
    "\n",
    "det = np.linalg.det(matrix)\n",
    "print(\"Определитель матрицы:\", det)\n",
    "\n",
    "# Проверка на то, существует ли обратная матрица\n",
    "if det != 0:\n",
    "    # Нахождение обратной матрицы\n",
    "    inverseMatrix = np.linalg.inv(matrix)\n",
    "    print(\"Обратная матрица:\\n\", inverseMatrix)\n",
    "else:\n",
    "    print(\"Матрица вырождена, обратной матрицы не существует.\")"
   ]
  },
  {
   "cell_type": "markdown",
   "id": "d46eae6a-d941-49ba-b87f-3aeb6da31c12",
   "metadata": {},
   "source": [
    "**Задание 9. Транспонирование и след матрицы** Создайте матрицу NumPy размером 4×4, содержащую случайные целые числа от 1 до 50. Выведите: Исходную матрицу. Транспонированную матрицу. След матрицы (сумму элементов на главной диагонали). Используйте функцию np.trace для нахождения следа."
   ]
  },
  {
   "cell_type": "code",
   "execution_count": 10,
   "id": "7b990b40-1b73-4694-9cb1-30132cf00041",
   "metadata": {},
   "outputs": [
    {
     "name": "stdout",
     "output_type": "stream",
     "text": [
      "Исходная матрица:\n",
      " [[13 38  7 25]\n",
      " [22 14  7 30]\n",
      " [36 29 33 41]\n",
      " [34 39  9 10]]\n",
      "Транспонированная матрица:\n",
      " [[13 22 36 34]\n",
      " [38 14 29 39]\n",
      " [ 7  7 33  9]\n",
      " [25 30 41 10]]\n",
      "След матрицы: 70\n"
     ]
    }
   ],
   "source": [
    "import numpy as np\n",
    "\n",
    "matrix = np.random.randint(1, 51, (4, 4))\n",
    "print(\"Исходная матрица:\\n\", matrix)\n",
    "\n",
    "transposedMatrix = matrix.T\n",
    "print(\"Транспонированная матрица:\\n\", transposedMatrix)\n",
    "\n",
    "traceOfMatrix = np.trace(matrix)\n",
    "print(\"След матрицы:\", traceOfMatrix)"
   ]
  },
  {
   "cell_type": "markdown",
   "id": "46732c0e-1f6c-40cf-b4fc-6bcedbd57c5c",
   "metadata": {},
   "source": [
    "**Задание 10. Системы линейных уравнений** Решите систему линейных уравнений вида: \n",
    "\n",
    "\\begin{cases} \n",
    "2x + 3y - z = 5 \\\\ \n",
    "4x - y + 2z = 6 \\\\ \n",
    "-3x + 5y + 4z = -2 \n",
    "\\end{cases}\n",
    "\n",
    "Используйте матричное представление Ax = B, где: A — матрица коэффициентов, x — вектор неизвестных, B — вектор правой части. Решите систему с помощью функции np.linalg.solve и выведите результат."
   ]
  },
  {
   "cell_type": "code",
   "execution_count": 11,
   "id": "5f41fe58-ad27-437a-bfae-146f8238c263",
   "metadata": {},
   "outputs": [
    {
     "name": "stdout",
     "output_type": "stream",
     "text": [
      "Решение системы:\n",
      "x = 1.6396396396396398\n",
      "y = 0.5765765765765767\n",
      "z = 0.009009009009008978\n"
     ]
    }
   ],
   "source": [
    "import numpy as np\n",
    "\n",
    "A = np.array([[2, 3, -1],\n",
    "              [4, -1, 2],\n",
    "              [-3, 5, 4]])\n",
    "B = np.array([5, 6, -2])\n",
    "x = np.linalg.solve(A, B)\n",
    "\n",
    "print(\"Решение системы:\")\n",
    "print(\"x =\", x[0])\n",
    "print(\"y =\", x[1])\n",
    "print(\"z =\", x[2])"
   ]
  },
  {
   "cell_type": "markdown",
   "id": "a6cd8a23-0c7f-4dd9-9c44-4e7e4a3a135c",
   "metadata": {},
   "source": [
    "**Задание 11. Индивидуальное задание Вариант 9** Оптимальный выбор топлива. Автомобиль использует три вида топлива в разных пропорциях. Бензин даёт 30 МДж энергии на литр, дизель — 35 МДж, газ — 25 МДж. Для поездки требуется 100 МДж энергии. Водитель хочет использовать бензина в два раза больше, чем газа, а количество дизеля равно количеству газа. Сколько литров каждого топлива нужно залить?"
   ]
  },
  {
   "cell_type": "code",
   "execution_count": 12,
   "id": "cea13c4f-aeaf-4688-82ed-e9032ac23ebd",
   "metadata": {},
   "outputs": [
    {
     "name": "stdout",
     "output_type": "stream",
     "text": [
      "Количество газа: 0.833 литра\n",
      "Количество бензина: 1.667 литра\n",
      "Количество дизеля: 0.833 литра\n"
     ]
    }
   ],
   "source": [
    "# Общее уравнение: 60x + 35x + 25x = 100\n",
    "# Упрощаем: 120x = 100\n",
    "x = 100 / 120\n",
    "\n",
    "# Количество каждого топлива\n",
    "gas = x\n",
    "petrol = 2 * x\n",
    "diesel = x\n",
    "\n",
    "# Выводим результаты\n",
    "print(f\"Количество газа: {gas:.3f} литра\")\n",
    "print(f\"Количество бензина: {petrol:.3f} литра\")\n",
    "print(f\"Количество дизеля: {diesel:.3f} литра\")"
   ]
  },
  {
   "cell_type": "code",
   "execution_count": null,
   "id": "cf5bdeb9-d9f1-4481-b025-ec2b1956ea77",
   "metadata": {},
   "outputs": [],
   "source": []
  }
 ],
 "metadata": {
  "kernelspec": {
   "display_name": "Python 3 (ipykernel)",
   "language": "python",
   "name": "python3"
  },
  "language_info": {
   "codemirror_mode": {
    "name": "ipython",
    "version": 3
   },
   "file_extension": ".py",
   "mimetype": "text/x-python",
   "name": "python",
   "nbconvert_exporter": "python",
   "pygments_lexer": "ipython3",
   "version": "3.11.9"
  }
 },
 "nbformat": 4,
 "nbformat_minor": 5
}
