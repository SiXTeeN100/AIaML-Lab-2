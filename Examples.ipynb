{
 "cells": [
  {
   "cell_type": "markdown",
   "id": "a115cabb-6b72-4f3c-98e1-fb30d6a676ac",
   "metadata": {},
   "source": [
    "**Пример №1** Векторизация и оптимизация кода"
   ]
  },
  {
   "cell_type": "code",
   "execution_count": 5,
   "id": "ab57e601-0bfb-44a2-8017-1efa42b79318",
   "metadata": {},
   "outputs": [
    {
     "name": "stdout",
     "output_type": "stream",
     "text": [
      "[5 7 9]\n"
     ]
    }
   ],
   "source": [
    "import numpy as np\n",
    "a = np.array([1, 2, 3])\n",
    "b = np.array([4, 5, 6])\n",
    "result = a + b # Быстрое сложение массивов\n",
    "print(result)"
   ]
  },
  {
   "cell_type": "markdown",
   "id": "9a97db89-2a2e-4956-a113-991c7d3e5d47",
   "metadata": {},
   "source": [
    "**Пример №2** Создание массива и операции с массивами"
   ]
  },
  {
   "cell_type": "code",
   "execution_count": 7,
   "id": "4377a587-cd25-4d6b-8406-18c3f8c2da10",
   "metadata": {},
   "outputs": [
    {
     "name": "stdout",
     "output_type": "stream",
     "text": [
      "[5 7 9]\n"
     ]
    }
   ],
   "source": [
    "import numpy as np\n",
    "arr1 = np.array([1, 2, 3])\n",
    "arr2 = np.array([4, 5, 6])\n",
    "result = arr1 + arr2 # [5, 7, 9]\n",
    "print(result)"
   ]
  },
  {
   "cell_type": "markdown",
   "id": "0d9be39c-a443-442a-bc78-f89a17ad46f2",
   "metadata": {},
   "source": [
    "**Пример №3** Матричные операции"
   ]
  },
  {
   "cell_type": "code",
   "execution_count": 8,
   "id": "a80bd949-cd30-468a-a021-d4edfb7e4a6d",
   "metadata": {},
   "outputs": [
    {
     "name": "stdout",
     "output_type": "stream",
     "text": [
      "[[19 22]\n",
      " [43 50]]\n"
     ]
    }
   ],
   "source": [
    "import numpy as np\n",
    "matrix1 = np.array([[1, 2], [3, 4]])\n",
    "matrix2 = np.array([[5, 6], [7, 8]])\n",
    "result = np.dot(matrix1, matrix2) # Матричное умножение\n",
    "print(result)"
   ]
  },
  {
   "cell_type": "markdown",
   "id": "57d6a1f7-faa7-42fa-8e03-cf6840f5f611",
   "metadata": {},
   "source": [
    "**Пример №4** Статистические функции"
   ]
  },
  {
   "cell_type": "code",
   "execution_count": 15,
   "id": "a2fe8f33-591d-48a5-8f2b-dd9fd9089b63",
   "metadata": {},
   "outputs": [
    {
     "name": "stdout",
     "output_type": "stream",
     "text": [
      "[1 2 3 4 5] 3.0 1.4142135623730951\n"
     ]
    }
   ],
   "source": [
    "import numpy as np\n",
    "data = np.array([1, 2, 3, 4, 5])\n",
    "mean = np.mean(data) # Среднее значение\n",
    "std_dev = np.std(data) # Стандартное отклонение\n",
    "print(data, mean, std_dev)"
   ]
  },
  {
   "cell_type": "markdown",
   "id": "8fc8a1ec-0048-4085-9fa1-b149bbd0fada",
   "metadata": {},
   "source": [
    "**Пример №5** Доступ к элементам массива"
   ]
  },
  {
   "cell_type": "code",
   "execution_count": 28,
   "id": "b0aaeae9-b810-4234-9a48-957d65859a3d",
   "metadata": {},
   "outputs": [
    {
     "name": "stdout",
     "output_type": "stream",
     "text": [
      "[[1 2 3 4]\n",
      " [5 6 7 8]\n",
      " [9 1 5 7]]\n",
      "-----------------------\n",
      "5\n",
      "-----------------------\n",
      "[[5 6 7 8]]\n",
      "-----------------------\n",
      "[[3]\n",
      " [7]\n",
      " [5]]\n",
      "-----------------------\n",
      "[[7 8]]\n",
      "-----------------------\n",
      "[[2]\n",
      " [6]]\n",
      "-----------------------\n",
      "[[1 2 4]\n",
      " [5 6 8]\n",
      " [9 1 7]]\n",
      "-----------------------\n"
     ]
    }
   ],
   "source": [
    "import numpy as np\n",
    "m = np.matrix('1 2 3 4; 5 6 7 8; 9 1 5 7')\n",
    "print(m)\n",
    "print(\"-----------------------\")\n",
    "print(m[1,0])\n",
    "print(\"-----------------------\")\n",
    "print(m[1,:])\n",
    "print(\"-----------------------\")\n",
    "print(m[:,2])\n",
    "print(\"-----------------------\")\n",
    "print(m[1,2:])\n",
    "print(\"-----------------------\")\n",
    "print(m[0:2,1])\n",
    "print(\"-----------------------\")\n",
    "cols = [0, 1, 3]\n",
    "print(m[:,cols])\n",
    "print(\"-----------------------\")"
   ]
  },
  {
   "cell_type": "markdown",
   "id": "6bc1a6e5-7066-48b1-92d1-905115a85241",
   "metadata": {},
   "source": [
    "**Пример №6** Расчёт статистик по данным в массиве"
   ]
  },
  {
   "cell_type": "code",
   "execution_count": 37,
   "id": "32f66123-d633-434e-9a02-4c7c1670c931",
   "metadata": {},
   "outputs": [
    {
     "name": "stdout",
     "output_type": "stream",
     "text": [
      "[[1 2 3 4]\n",
      " [5 6 7 8]\n",
      " [9 1 5 7]]\n",
      "-----------------------\n",
      "<class 'numpy.matrix'>\n",
      "-----------------------\n",
      "(3, 4)\n",
      "-----------------------\n",
      "9\n",
      "-----------------------\n",
      "[[4]\n",
      " [8]\n",
      " [9]]\n",
      "-----------------------\n",
      "[[9 6 7 8]]\n",
      "-----------------------\n",
      "4.833333333333333\n",
      "-----------------------\n",
      "[[2.5]\n",
      " [6.5]\n",
      " [5.5]]\n",
      "-----------------------\n",
      "58\n",
      "-----------------------\n",
      "[[15  9 15 19]]\n"
     ]
    }
   ],
   "source": [
    "import numpy as np\n",
    "m = np.matrix('1 2 3 4; 5 6 7 8; 9 1 5 7')\n",
    "print(m)\n",
    "print(\"-----------------------\")\n",
    "print(type(m))\n",
    "print(\"-----------------------\")\n",
    "print(m.shape)\n",
    "print(\"-----------------------\")\n",
    "print(m.max())\n",
    "print(\"-----------------------\")\n",
    "print(m.max(axis=1))\n",
    "print(\"-----------------------\")\n",
    "print(m.max(axis=0))\n",
    "print(\"-----------------------\")\n",
    "print(m.mean())\n",
    "print(\"-----------------------\")\n",
    "print(m.mean(axis=1))\n",
    "print(\"-----------------------\")\n",
    "print(m.sum())\n",
    "print(\"-----------------------\")\n",
    "print(m.sum(axis=0))"
   ]
  },
  {
   "cell_type": "markdown",
   "id": "b0e8fa2f-aa3a-40fe-a26b-d59c29c8845f",
   "metadata": {},
   "source": [
    "**Пример №7** Использование boolean массива для доступа к ndarray"
   ]
  },
  {
   "cell_type": "code",
   "execution_count": 40,
   "id": "afc48066-736a-4482-9532-f9c17558558f",
   "metadata": {},
   "outputs": [
    {
     "name": "stdout",
     "output_type": "stream",
     "text": [
      "[ True  True  True  True False False False False False False]\n",
      "[ True False False False  True False False]\n",
      "[1 2 3 4]\n"
     ]
    }
   ],
   "source": [
    "import numpy as np\n",
    "nums = np.array([1, 2, 3, 4, 5, 6, 7, 8, 9, 10])\n",
    "letters = np.array(['a', 'b', 'c', 'd', 'a', 'e', 'b'])\n",
    "\n",
    "less_than_5 = nums < 5\n",
    "print(less_than_5)\n",
    "\n",
    "pos_a = letters == 'a'\n",
    "print(pos_a)\n",
    "\n",
    "print(nums[less_than_5])"
   ]
  },
  {
   "cell_type": "markdown",
   "id": "2d80490f-c125-439d-ac7f-ef7398afed59",
   "metadata": {},
   "source": [
    "**Пример №8** Диагональная матрица"
   ]
  },
  {
   "cell_type": "code",
   "execution_count": 45,
   "id": "73c0527c-68e0-41af-aff0-89d053b807a5",
   "metadata": {},
   "outputs": [
    {
     "name": "stdout",
     "output_type": "stream",
     "text": [
      "[1 5 9]\n",
      "[[1 0 0]\n",
      " [0 5 0]\n",
      " [0 0 9]]\n",
      "[[1. 0. 0.]\n",
      " [0. 1. 0.]\n",
      " [0. 0. 1.]]\n"
     ]
    }
   ],
   "source": [
    "import numpy as np\n",
    "m_sqr_mx = np.matrix('1 2 3; 4 5 6; 7 8 9')\n",
    "diag = np.diag(m_sqr_mx)\n",
    "print(diag)\n",
    "\n",
    "m_diag_np = np.diag(np.diag(m_sqr_mx))\n",
    "print(m_diag_np)\n",
    "\n",
    "# единичная матрица\n",
    "m_eye = np.eye(3)\n",
    "print(m_eye)"
   ]
  },
  {
   "cell_type": "markdown",
   "id": "b379ab1d-5fcc-46c8-b513-c2bfe739e56d",
   "metadata": {},
   "source": [
    "**Пример №9** Транспонирование матрицы"
   ]
  },
  {
   "cell_type": "code",
   "execution_count": 49,
   "id": "c1841939-7f67-4d04-91dc-2808eed77e30",
   "metadata": {},
   "outputs": [
    {
     "name": "stdout",
     "output_type": "stream",
     "text": [
      "[[1 2 3]\n",
      " [4 5 6]]\n",
      "[[1 4]\n",
      " [2 5]\n",
      " [3 6]]\n"
     ]
    }
   ],
   "source": [
    "import numpy as np\n",
    "A = np.matrix('1 2 3; 4 5 6')\n",
    "print(A)\n",
    "\n",
    "A_t = A.transpose() # print(A.T) сокращённый вариант записи\n",
    "print(A_t)"
   ]
  },
  {
   "cell_type": "code",
   "execution_count": null,
   "id": "a6bab197-8918-4e86-baec-f7f55f479beb",
   "metadata": {},
   "outputs": [],
   "source": []
  }
 ],
 "metadata": {
  "kernelspec": {
   "display_name": "Python 3 (ipykernel)",
   "language": "python",
   "name": "python3"
  },
  "language_info": {
   "codemirror_mode": {
    "name": "ipython",
    "version": 3
   },
   "file_extension": ".py",
   "mimetype": "text/x-python",
   "name": "python",
   "nbconvert_exporter": "python",
   "pygments_lexer": "ipython3",
   "version": "3.12.7"
  }
 },
 "nbformat": 4,
 "nbformat_minor": 5
}
